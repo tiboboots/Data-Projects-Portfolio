{
 "cells": [
  {
   "cell_type": "code",
   "execution_count": 1,
   "id": "24820292-d61b-447a-86d8-9094ed4ef38f",
   "metadata": {},
   "outputs": [],
   "source": [
    "def add_func(num1, num2):\n",
    "    \n",
    "    return num1 + num2"
   ]
  },
  {
   "cell_type": "code",
   "execution_count": 2,
   "id": "19764a58-84ca-4742-9291-6852309e1b7a",
   "metadata": {},
   "outputs": [
    {
     "data": {
      "text/plain": [
       "35"
      ]
     },
     "execution_count": 2,
     "metadata": {},
     "output_type": "execute_result"
    }
   ],
   "source": [
    "add_func(25, 10)"
   ]
  },
  {
   "cell_type": "code",
   "execution_count": 2,
   "id": "6adc0016-6388-4453-b8b3-ad29575a8cee",
   "metadata": {},
   "outputs": [],
   "source": [
    "def sub_func(num1, num2):\n",
    "\n",
    "    return num1 - num2"
   ]
  },
  {
   "cell_type": "code",
   "execution_count": 4,
   "id": "2ec7d501-9391-4369-9bb7-c39d94a1359c",
   "metadata": {},
   "outputs": [
    {
     "data": {
      "text/plain": [
       "5"
      ]
     },
     "execution_count": 4,
     "metadata": {},
     "output_type": "execute_result"
    }
   ],
   "source": [
    "sub_func(10, 5)"
   ]
  },
  {
   "cell_type": "code",
   "execution_count": 3,
   "id": "1902d78d-bcf6-4305-a142-50949dc7e6d7",
   "metadata": {},
   "outputs": [],
   "source": [
    "def multi_func(num1, num2):\n",
    "\n",
    "    return num1 * num2"
   ]
  },
  {
   "cell_type": "code",
   "execution_count": 6,
   "id": "a07830ed-1c15-417f-b0d7-e95b4278b1a2",
   "metadata": {},
   "outputs": [
    {
     "data": {
      "text/plain": [
       "50"
      ]
     },
     "execution_count": 6,
     "metadata": {},
     "output_type": "execute_result"
    }
   ],
   "source": [
    "multi_func(5, 10)"
   ]
  },
  {
   "cell_type": "code",
   "execution_count": 4,
   "id": "7e88b04d-7efd-48a7-885c-715a72aa62e0",
   "metadata": {},
   "outputs": [],
   "source": [
    "def div_func(num1, num2):\n",
    "\n",
    "    return num1 / num2"
   ]
  },
  {
   "cell_type": "code",
   "execution_count": 8,
   "id": "df4d9300-0871-4e32-a795-13c4e8d68d53",
   "metadata": {},
   "outputs": [
    {
     "data": {
      "text/plain": [
       "3.0"
      ]
     },
     "execution_count": 8,
     "metadata": {},
     "output_type": "execute_result"
    }
   ],
   "source": [
    "div_func(18, 6)"
   ]
  },
  {
   "cell_type": "code",
   "execution_count": 25,
   "id": "f72e77a2-fb29-4cd7-9e64-705a1a388bf9",
   "metadata": {},
   "outputs": [
    {
     "name": "stdin",
     "output_type": "stream",
     "text": [
      "Enter choice(Add, Subtract, Multiply, Divide): addhv\n"
     ]
    },
    {
     "name": "stdout",
     "output_type": "stream",
     "text": [
      "Wrong choice, please try again.\n"
     ]
    },
    {
     "name": "stdin",
     "output_type": "stream",
     "text": [
      "Enter choice(Add, Subtract, Multiply, Divide): add\n",
      "Enter number: 2\n",
      "Enter second number: 4\n"
     ]
    },
    {
     "name": "stdout",
     "output_type": "stream",
     "text": [
      "Result: 6.0\n"
     ]
    },
    {
     "name": "stdin",
     "output_type": "stream",
     "text": [
      "Enter \"Reset\" to restart, or \"Continue\" to carry on calculation: dhdh\n"
     ]
    },
    {
     "name": "stdout",
     "output_type": "stream",
     "text": [
      "Wrong input, please try again.\n"
     ]
    },
    {
     "name": "stdin",
     "output_type": "stream",
     "text": [
      "Enter \"Reset\" to restart, or \"Continue\" to carry on calculation: continue\n",
      "Enter choice(Add, Subtract, Multiply, Divide): add\n",
      "Enter number: 2\n",
      "Enter second number: 5\n"
     ]
    },
    {
     "name": "stdout",
     "output_type": "stream",
     "text": [
      "Result: 7.0\n"
     ]
    },
    {
     "name": "stdin",
     "output_type": "stream",
     "text": [
      "Enter \"Reset\" to restart, or \"Continue\" to carry on calculation: reset\n"
     ]
    }
   ],
   "source": [
    "list_choice = ['add', 'subtract', 'multiply', 'divide']\n",
    "\n",
    "while True:\n",
    "\n",
    "    choice = input('Enter choice(Add, Subtract, Multiply, Divide):')\n",
    "    \n",
    "    if choice.lower() in list_choice:\n",
    "    \n",
    "        num1 = float(input('Enter number:'))\n",
    "    \n",
    "        num2 = float(input('Enter second number:'))\n",
    "        \n",
    "    \n",
    "        if choice.lower() == 'add':\n",
    "    \n",
    "             result = print('Result:', add_func(num1, num2))\n",
    "    \n",
    "        elif choice.lower() == 'subtract':\n",
    "    \n",
    "             result = print('Result:', sub_func(num1, num2))\n",
    "    \n",
    "        elif choice.lower() == 'multiply':\n",
    "    \n",
    "            result = print('Result:', multi_func(num1, num2))\n",
    "    \n",
    "        elif choice.lower() == 'divide':\n",
    "    \n",
    "             result = print('Result:', div_func(num1, num2))\n",
    "\n",
    "    else:\n",
    "        print('Wrong choice, please try again.')\n",
    "        \n",
    "        continue\n",
    "    \n",
    "       \n",
    "    restart = input('Enter \"Reset\" to restart, or \"Continue\" to carry on calculation:')\n",
    "    \n",
    "    if restart.lower() == \"reset\":\n",
    "                \n",
    "        break\n",
    "    \n",
    "    elif restart.lower() == \"continue\":\n",
    "              \n",
    "        continue  \n",
    "    \n",
    "    else:\n",
    "        \n",
    "        print('Wrong input, please try again.')\n",
    "\n",
    "        restart = input('Enter \"Reset\" to restart, or \"Continue\" to carry on calculation:')"
   ]
  },
  {
   "cell_type": "code",
   "execution_count": null,
   "id": "2b715d6c-cdb0-438e-8171-d2d41ead15cd",
   "metadata": {},
   "outputs": [],
   "source": []
  }
 ],
 "metadata": {
  "kernelspec": {
   "display_name": "Python 3 (ipykernel)",
   "language": "python",
   "name": "python3"
  },
  "language_info": {
   "codemirror_mode": {
    "name": "ipython",
    "version": 3
   },
   "file_extension": ".py",
   "mimetype": "text/x-python",
   "name": "python",
   "nbconvert_exporter": "python",
   "pygments_lexer": "ipython3",
   "version": "3.11.7"
  }
 },
 "nbformat": 4,
 "nbformat_minor": 5
}
