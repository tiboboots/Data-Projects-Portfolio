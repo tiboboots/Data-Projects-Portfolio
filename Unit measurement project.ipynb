{
 "cells": [
  {
   "cell_type": "code",
   "execution_count": 1,
   "id": "ae9f4718-d876-4b31-b824-1c5d40d8dc8f",
   "metadata": {},
   "outputs": [
    {
     "name": "stdin",
     "output_type": "stream",
     "text": [
      "Convert from:(inches, feet, yards) inches\n",
      "To:(inches, feet, yards) feet\n",
      "Enter inches measurement: 120\n",
      "Enter feet measurement: 20\n",
      "Enter yards measurement: 0\n"
     ]
    }
   ],
   "source": [
    "convert_from = input('Convert from:(inches, feet, yards)')\n",
    "\n",
    "convert_to = input('To:(inches, feet, yards)')\n",
    "\n",
    "inches_val = input('Enter inches measurement:')\n",
    "\n",
    "feet_val = input('Enter feet measurement:')\n",
    "\n",
    "yards_val = input('Enter yards measurement:')"
   ]
  },
  {
   "cell_type": "code",
   "execution_count": 40,
   "id": "3dcb420c-01fb-4168-9f5c-ed3be8884c3d",
   "metadata": {},
   "outputs": [
    {
     "name": "stdin",
     "output_type": "stream",
     "text": [
      "Convert From:(inches, feet, yards): inches\n",
      "Convert To:(inches, feet, yards): feet\n",
      "Enter inches measurement: 24\n"
     ]
    },
    {
     "name": "stdout",
     "output_type": "stream",
     "text": [
      "24 inches = 2.0 feet\n"
     ]
    }
   ],
   "source": [
    "convert_from = input('Convert From:(inches, feet, yards):')\n",
    "\n",
    "convert_to = input('Convert To:(inches, feet, yards):')\n",
    "\n",
    "inch_list = ['inches', 'Inches']\n",
    "\n",
    "feet_list = ['feet', 'Feet']\n",
    "\n",
    "yards_list = ['yards', 'Yards']\n",
    "\n",
    "if convert_from in inch_list:\n",
    "    \n",
    "    inches_val = int(input('Enter inches measurement:'))\n",
    "\n",
    "    if convert_to in feet_list:\n",
    "        feet_val = inches_val / 12\n",
    "        print(inches_val, 'inches =', feet_val, 'feet')\n",
    "\n",
    "    elif convert_to in yards_list:\n",
    "        yards_val = inches_val / 36\n",
    "        print(inches_val, 'inches =', yards_val, 'yards')\n",
    "\n",
    "    else:\n",
    "        print('Please enter either inches, feet, or yards')\n",
    "\n",
    "elif convert_from in feet_list:\n",
    "\n",
    "    feet_val = int(input('Enter feet measurement:'))\n",
    "\n",
    "    if convert_to in inch_list:\n",
    "        inches_val = feet_val * 12\n",
    "        print(feet_val, 'feet =', inches_val, 'inches')\n",
    "\n",
    "    elif convert_to in yards_list:\n",
    "        yards_val = feet_val / 3\n",
    "        print(feet_val, 'feet =', yards_val, 'yards')\n",
    "\n",
    "    else:\n",
    "        print('Please enter either inches, feet, or yards')\n",
    "\n",
    "elif convert_from in yards_list:\n",
    "\n",
    "    yards_val = int(input('Enter yards measurement:'))\n",
    "\n",
    "    if convert_to in inch_list:\n",
    "        inches_val = yards_val * 36\n",
    "        print(yards_val, 'yards =', inches_val, 'inches')\n",
    "\n",
    "    elif convert_to in feet_list:\n",
    "        feet_val = yards_val * 3\n",
    "        print(yards_val, 'yards', '=', feet_val, 'feet')\n",
    "\n",
    "    else:\n",
    "        print('Please enter either inches, feet, or yards')\n",
    "\n",
    "else:\n",
    "    print('Please enter either inches, feet, or yards')"
   ]
  },
  {
   "cell_type": "code",
   "execution_count": null,
   "id": "48abd0a8-553a-453a-9c20-9728b233b387",
   "metadata": {},
   "outputs": [],
   "source": []
  }
 ],
 "metadata": {
  "kernelspec": {
   "display_name": "Python 3 (ipykernel)",
   "language": "python",
   "name": "python3"
  },
  "language_info": {
   "codemirror_mode": {
    "name": "ipython",
    "version": 3
   },
   "file_extension": ".py",
   "mimetype": "text/x-python",
   "name": "python",
   "nbconvert_exporter": "python",
   "pygments_lexer": "ipython3",
   "version": "3.11.7"
  }
 },
 "nbformat": 4,
 "nbformat_minor": 5
}
