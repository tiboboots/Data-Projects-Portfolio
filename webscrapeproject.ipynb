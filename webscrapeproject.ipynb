{
 "cells": [
  {
   "cell_type": "code",
   "execution_count": 1,
   "id": "5e7a64f0-2eda-4630-8db9-8a27692ba45b",
   "metadata": {},
   "outputs": [],
   "source": [
    "from bs4 import BeautifulSoup\n",
    "import requests\n",
    "\n",
    "import pandas as pd\n",
    "\n",
    "from datetime import datetime\n",
    "\n",
    "import os\n",
    "\n",
    "import time"
   ]
  },
  {
   "cell_type": "code",
   "execution_count": 2,
   "id": "1020cfe4-a800-4453-b72d-4f08a1bcf3c4",
   "metadata": {},
   "outputs": [],
   "source": [
    "def bitcoin():\n",
    "\n",
    "    url = 'https://coinmarketcap.com/currencies/bitcoin/'\n",
    "    \n",
    "    page = requests.get(url)\n",
    "    \n",
    "    html = BeautifulSoup(page.text, 'html')\n",
    "    \n",
    "    price = html.find('span', 'sc-d1ede7e3-0 fsQm base-text').text\n",
    "    \n",
    "    clean_price = price.replace('$', '')\n",
    "    \n",
    "    head = html.find('span', 'sc-d1ede7e3-0 bEFegK').text\n",
    "    \n",
    "    head2 = head.replace('price', '')\n",
    "    \n",
    "    clean_head = str.strip(head2)\n",
    "    \n",
    "    \n",
    "    restdata = html.find_all('dd', 'sc-d1ede7e3-0 hPHvUM base-text')\n",
    "    \n",
    "    bitcoin = [data.text for data in restdata]\n",
    "    \n",
    "    new_coin = [val.replace('$', ' ')for val in bitcoin]\n",
    "    \n",
    "    clean_coin = [str.strip(val) for val in new_coin]\n",
    "    \n",
    "    date_time = datetime.now()\n",
    "    \n",
    "    data_dict = {'Name': clean_head, \n",
    "                'Price': clean_price, \n",
    "                'Timestamp': date_time, \n",
    "                'Market Cap': clean_coin[0],\n",
    "                'Volume': clean_coin[1],\n",
    "                'Circulating Supply': clean_coin[3],\n",
    "                'Total Supply': clean_coin[4]}\n",
    "    \n",
    "    df = pd.DataFrame([data_dict])\n",
    "    \n",
    "    if os.path.exists('/Users/tibo/Desktop/CSVfolder/bitcoindata.csv'):\n",
    "        df.to_csv('/Users/tibo/Desktop/CSVfolder/bitcoindata.csv', mode = 'a', header = False)\n",
    "    \n",
    "    else:\n",
    "        df.to_csv('/Users/tibo/Desktop/CSVfolder/bitcoindata.csv')\n"
   ]
  },
  {
   "cell_type": "code",
   "execution_count": null,
   "id": "5b3a3698-dce1-41d8-8b63-310ff21c6e98",
   "metadata": {},
   "outputs": [],
   "source": [
    "while True:\n",
    "    bitcoin()\n",
    "    time.sleep(60)"
   ]
  }
 ],
 "metadata": {
  "kernelspec": {
   "display_name": "Python 3 (ipykernel)",
   "language": "python",
   "name": "python3"
  },
  "language_info": {
   "codemirror_mode": {
    "name": "ipython",
    "version": 3
   },
   "file_extension": ".py",
   "mimetype": "text/x-python",
   "name": "python",
   "nbconvert_exporter": "python",
   "pygments_lexer": "ipython3",
   "version": "3.11.7"
  }
 },
 "nbformat": 4,
 "nbformat_minor": 5
}
