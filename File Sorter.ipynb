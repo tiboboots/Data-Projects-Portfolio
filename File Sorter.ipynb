{
 "cells": [
  {
   "cell_type": "code",
   "execution_count": 8,
   "metadata": {},
   "outputs": [],
   "source": [
    "import os, shutil\n",
    "\n",
    "path = '/Users/tibo/Desktop/PandasFolder/'\n",
    "\n",
    "path_2 = '/Users/tibo/Desktop/'"
   ]
  },
  {
   "cell_type": "code",
   "execution_count": null,
   "metadata": {},
   "outputs": [],
   "source": [
    "file_list = os.listdir(path2)\n",
    "\n",
    "file_list"
   ]
  },
  {
   "cell_type": "code",
   "execution_count": null,
   "metadata": {},
   "outputs": [],
   "source": [
    "folder_names = ['CSVfolder', 'Excelfolder', 'JSONfolder']\n",
    "\n",
    "for folder in folder_names:\n",
    "    \n",
    "    if os.path.exists(path_2 + folder) == False:\n",
    "        \n",
    "        os.mkdir(path_2 + folder)"
   ]
  },
  {
   "cell_type": "code",
   "execution_count": 4,
   "metadata": {},
   "outputs": [],
   "source": [
    "for file in file_list:\n",
    "\n",
    "      if file.endswith('.csv'):\n",
    "            \n",
    "            shutil.move(path + file, '/Users/tibo/Desktop/CSVfolder')\n",
    "\n",
    "      elif file.endswith('.xlsx'):\n",
    "\n",
    "            shutil.move(path + file, '/Users/tibo/Desktop/Excelfolder')\n",
    "\n",
    "      elif file.endswith('.json'):\n",
    "\n",
    "            shutil.move(path + file, '/Users/tibo/Desktop/JSONfolder')"
   ]
  },
  {
   "cell_type": "code",
   "execution_count": null,
   "metadata": {},
   "outputs": [],
   "source": []
  }
 ],
 "metadata": {
  "kernelspec": {
   "display_name": "Python 3 (ipykernel)",
   "language": "python",
   "name": "python3"
  },
  "language_info": {
   "codemirror_mode": {
    "name": "ipython",
    "version": 3
   },
   "file_extension": ".py",
   "mimetype": "text/x-python",
   "name": "python",
   "nbconvert_exporter": "python",
   "pygments_lexer": "ipython3",
   "version": "3.11.7"
  }
 },
 "nbformat": 4,
 "nbformat_minor": 4
}
